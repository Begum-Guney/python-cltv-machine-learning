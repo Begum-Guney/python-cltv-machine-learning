{
  "nbformat": 4,
  "nbformat_minor": 0,
  "metadata": {
    "colab": {
      "provenance": [],
      "authorship_tag": "ABX9TyNfvoxp9bs5JbmGUDB3Xhsu",
      "include_colab_link": true
    },
    "kernelspec": {
      "name": "python3",
      "display_name": "Python 3"
    },
    "language_info": {
      "name": "python"
    }
  },
  "cells": [
    {
      "cell_type": "markdown",
      "metadata": {
        "id": "view-in-github",
        "colab_type": "text"
      },
      "source": [
        "<a href=\"https://colab.research.google.com/github/Begum-Guney/python-cltv-machine-learning/blob/main/customer_lifetime_value_prediction.ipynb\" target=\"_parent\"><img src=\"https://colab.research.google.com/assets/colab-badge.svg\" alt=\"Open In Colab\"/></a>"
      ]
    },
    {
      "cell_type": "markdown",
      "source": [
        "**Step 1: Set Up and Download the Dataset**\n",
        "\n"
      ],
      "metadata": {
        "id": "BImmzSYVrPHc"
      }
    },
    {
      "cell_type": "code",
      "source": [
        "# Install required libraries and import them\n",
        "!pip install openpyxl statsmodels\n",
        "\n",
        "import pandas as pd\n",
        "import numpy as np\n",
        "import seaborn as sns\n",
        "import matplotlib.pyplot as plt\n",
        "import statsmodels.api as sm\n",
        "from datetime import datetime"
      ],
      "metadata": {
        "colab": {
          "base_uri": "https://localhost:8080/"
        },
        "id": "budTDBuCeEqj",
        "outputId": "4a99ae6d-9379-4758-fd9f-779051eea9ea"
      },
      "execution_count": 32,
      "outputs": [
        {
          "output_type": "stream",
          "name": "stdout",
          "text": [
            "Requirement already satisfied: openpyxl in /usr/local/lib/python3.11/dist-packages (3.1.5)\n",
            "Requirement already satisfied: statsmodels in /usr/local/lib/python3.11/dist-packages (0.14.4)\n",
            "Requirement already satisfied: et-xmlfile in /usr/local/lib/python3.11/dist-packages (from openpyxl) (2.0.0)\n",
            "Requirement already satisfied: numpy<3,>=1.22.3 in /usr/local/lib/python3.11/dist-packages (from statsmodels) (2.0.2)\n",
            "Requirement already satisfied: scipy!=1.9.2,>=1.8 in /usr/local/lib/python3.11/dist-packages (from statsmodels) (1.15.3)\n",
            "Requirement already satisfied: pandas!=2.1.0,>=1.4 in /usr/local/lib/python3.11/dist-packages (from statsmodels) (2.2.2)\n",
            "Requirement already satisfied: patsy>=0.5.6 in /usr/local/lib/python3.11/dist-packages (from statsmodels) (1.0.1)\n",
            "Requirement already satisfied: packaging>=21.3 in /usr/local/lib/python3.11/dist-packages (from statsmodels) (24.2)\n",
            "Requirement already satisfied: python-dateutil>=2.8.2 in /usr/local/lib/python3.11/dist-packages (from pandas!=2.1.0,>=1.4->statsmodels) (2.9.0.post0)\n",
            "Requirement already satisfied: pytz>=2020.1 in /usr/local/lib/python3.11/dist-packages (from pandas!=2.1.0,>=1.4->statsmodels) (2025.2)\n",
            "Requirement already satisfied: tzdata>=2022.7 in /usr/local/lib/python3.11/dist-packages (from pandas!=2.1.0,>=1.4->statsmodels) (2025.2)\n",
            "Requirement already satisfied: six>=1.5 in /usr/local/lib/python3.11/dist-packages (from python-dateutil>=2.8.2->pandas!=2.1.0,>=1.4->statsmodels) (1.17.0)\n"
          ]
        }
      ]
    },
    {
      "cell_type": "code",
      "source": [
        "# Read the data\n",
        "# # Load both sheets\n",
        "df_1 = pd.read_excel(\"online_retail_II.xlsx\", sheet_name=\"Year 2009-2010\") # Update the path as needed\n",
        "df_2 = pd.read_excel(\"online_retail_II.xlsx\", sheet_name=\"Year 2010-2011\") # Update the path as needed\n",
        "\n",
        "# Merge them\n",
        "df = pd.concat([df_1, df_2], ignore_index=True)\n",
        "df.shape, df.head()\n",
        "\n",
        "# Inspect the data\n",
        "print(df.head())            # View the first 5 rows\n",
        "print(df.dtypes)            # Check data types of all columns\n",
        "print(df.isnull().sum())    # Count missing values per column"
      ],
      "metadata": {
        "colab": {
          "base_uri": "https://localhost:8080/"
        },
        "id": "99TZ5HJ3elFF",
        "outputId": "d8cb8559-09ad-4604-9eb6-f354d7f80f18"
      },
      "execution_count": 33,
      "outputs": [
        {
          "output_type": "stream",
          "name": "stdout",
          "text": [
            "  Invoice StockCode                          Description  Quantity  \\\n",
            "0  489434     85048  15CM CHRISTMAS GLASS BALL 20 LIGHTS        12   \n",
            "1  489434    79323P                   PINK CHERRY LIGHTS        12   \n",
            "2  489434    79323W                  WHITE CHERRY LIGHTS        12   \n",
            "3  489434     22041         RECORD FRAME 7\" SINGLE SIZE         48   \n",
            "4  489434     21232       STRAWBERRY CERAMIC TRINKET BOX        24   \n",
            "\n",
            "          InvoiceDate  Price  Customer ID         Country  \n",
            "0 2009-12-01 07:45:00   6.95      13085.0  United Kingdom  \n",
            "1 2009-12-01 07:45:00   6.75      13085.0  United Kingdom  \n",
            "2 2009-12-01 07:45:00   6.75      13085.0  United Kingdom  \n",
            "3 2009-12-01 07:45:00   2.10      13085.0  United Kingdom  \n",
            "4 2009-12-01 07:45:00   1.25      13085.0  United Kingdom  \n",
            "Invoice                object\n",
            "StockCode              object\n",
            "Description            object\n",
            "Quantity                int64\n",
            "InvoiceDate    datetime64[ns]\n",
            "Price                 float64\n",
            "Customer ID           float64\n",
            "Country                object\n",
            "dtype: object\n",
            "Invoice             0\n",
            "StockCode           0\n",
            "Description      4382\n",
            "Quantity            0\n",
            "InvoiceDate         0\n",
            "Price               0\n",
            "Customer ID    243007\n",
            "Country             0\n",
            "dtype: int64\n"
          ]
        }
      ]
    },
    {
      "cell_type": "markdown",
      "source": [
        "**Step 2: Clean the Data & Prepare for CLTV Modeling**\n",
        "\n",
        "* Remove rows with missing customer info\n",
        "* Remove cancelled orders\n",
        "* Filter to one country (UK) for simplicity\n",
        "* Create \"TotalPrice\" column\n",
        "* Check types & duplicates\n",
        "\n"
      ],
      "metadata": {
        "id": "SLKxakDmrd9Q"
      }
    },
    {
      "cell_type": "code",
      "source": [
        "# Remove rows with missing \"Customer ID\"\n",
        "df = df.dropna(subset=['Customer ID'])"
      ],
      "metadata": {
        "id": "yGGLsJopiKLf"
      },
      "execution_count": 34,
      "outputs": []
    },
    {
      "cell_type": "code",
      "source": [
        "# Remove canceling orders\n",
        "# Cancelled invoices start with \"C\"\n",
        "df = df[~df['Invoice'].astype(str).str.startswith('C')]"
      ],
      "metadata": {
        "id": "tQ1kQWSVklvR"
      },
      "execution_count": 35,
      "outputs": []
    },
    {
      "cell_type": "code",
      "source": [
        "# Filter to United Kingdom only\n",
        "df = df[df['Country'] == 'United Kingdom']"
      ],
      "metadata": {
        "id": "A0lQYUUuko8A"
      },
      "execution_count": 36,
      "outputs": []
    },
    {
      "cell_type": "code",
      "source": [
        "# Create \"TotalPrice\" column\n",
        "df['TotalPrice'] = df['Quantity'] * df['Price']"
      ],
      "metadata": {
        "id": "pcJzdW27kqyR"
      },
      "execution_count": 37,
      "outputs": []
    },
    {
      "cell_type": "code",
      "source": [
        "# Check types and duplicates\n",
        "df.info()\n",
        "df.duplicated().sum()"
      ],
      "metadata": {
        "colab": {
          "base_uri": "https://localhost:8080/"
        },
        "id": "gDJeotJFksW6",
        "outputId": "902c603e-8cdf-46c1-cfaa-dc2ff15fdbe0"
      },
      "execution_count": 38,
      "outputs": [
        {
          "output_type": "stream",
          "name": "stdout",
          "text": [
            "<class 'pandas.core.frame.DataFrame'>\n",
            "Index: 725296 entries, 0 to 1067354\n",
            "Data columns (total 9 columns):\n",
            " #   Column       Non-Null Count   Dtype         \n",
            "---  ------       --------------   -----         \n",
            " 0   Invoice      725296 non-null  object        \n",
            " 1   StockCode    725296 non-null  object        \n",
            " 2   Description  725296 non-null  object        \n",
            " 3   Quantity     725296 non-null  int64         \n",
            " 4   InvoiceDate  725296 non-null  datetime64[ns]\n",
            " 5   Price        725296 non-null  float64       \n",
            " 6   Customer ID  725296 non-null  float64       \n",
            " 7   Country      725296 non-null  object        \n",
            " 8   TotalPrice   725296 non-null  float64       \n",
            "dtypes: datetime64[ns](1), float64(3), int64(1), object(4)\n",
            "memory usage: 55.3+ MB\n"
          ]
        },
        {
          "output_type": "execute_result",
          "data": {
            "text/plain": [
              "np.int64(24862)"
            ]
          },
          "metadata": {},
          "execution_count": 38
        }
      ]
    },
    {
      "cell_type": "markdown",
      "source": [
        "**Step 3: Create Features for Customer Lifetime Value (CLTV)**\n",
        "\n",
        "We’ll create RFM features per customer:\n",
        "\n",
        "* Recency → Days since last purchase\n",
        "* Frequency → Number of purchases\n",
        "* Monetary → Total revenue\n",
        "\n",
        "Later, we’ll use these features in statsmodels and XGBoost."
      ],
      "metadata": {
        "id": "ixd3IlVSlPpg"
      }
    },
    {
      "cell_type": "code",
      "source": [
        "# Convert \"InvoiceDate\" to datetime\n",
        "df['InvoiceDate'] = pd.to_datetime(df['InvoiceDate'])"
      ],
      "metadata": {
        "id": "bIIBSzlGl6M8"
      },
      "execution_count": 39,
      "outputs": []
    },
    {
      "cell_type": "code",
      "source": [
        "# Set a reference date (snapshot date)\n",
        "# We’ll assume we’re analyzing as of one day after the last invoice\n",
        "snapshot_date = df['InvoiceDate'].max() + pd.Timedelta(days=1)"
      ],
      "metadata": {
        "id": "076vK3kNnKrN"
      },
      "execution_count": 40,
      "outputs": []
    },
    {
      "cell_type": "code",
      "source": [
        "# Group by \"Customer ID\" to create RFM features\n",
        "rfm = df.groupby('Customer ID').agg({\n",
        "    'InvoiceDate': lambda x: (snapshot_date - x.max()).days,\n",
        "    'Invoice': 'nunique',\n",
        "    'TotalPrice': 'sum'\n",
        "}).reset_index()\n",
        "rfm.columns = ['CustomerID', 'Recency', 'Frequency', 'Monetary']\n",
        "\n",
        "# Quick notes:\n",
        "# df.groupby('Customer ID'): We want one row per customer, so we group the data by customer.\n",
        "# Inside .agg({ ... }): We're calculating three values per customer\n",
        "   # 1. 'InvoiceDate': lambda x: (snapshot_date - x.max()).days\n",
        "      # We take the latest invoice date for each customer: x.max()\n",
        "      # Then subtract it from snapshot_date\n",
        "      # This tells us how many days it's been since their last purchase\n",
        "      # → This is our Recency\n",
        "   # 2. 'Invoice': 'nunique'\n",
        "      # We count how many unique invoices this customer had\n",
        "      # → This gives us Frequency (how many separate purchases)\n",
        "   # 3. 'TotalPrice': 'sum'\n",
        "      # We sum all the TotalPrice values (Quantity × Price)\n",
        "      # → This gives us Monetary (total money spent)"
      ],
      "metadata": {
        "id": "GY7BKZMmnkOe"
      },
      "execution_count": 41,
      "outputs": []
    },
    {
      "cell_type": "code",
      "source": [
        "# Check the results\n",
        "rfm.describe()\n",
        "rfm.head()\n",
        "# This gives us a great base for predicting CLTV using regression and ML models"
      ],
      "metadata": {
        "colab": {
          "base_uri": "https://localhost:8080/",
          "height": 206
        },
        "id": "xIHLq7mdqCX5",
        "outputId": "5cf9e5f6-e5d8-4653-d1e9-f60de5f70e49"
      },
      "execution_count": 42,
      "outputs": [
        {
          "output_type": "execute_result",
          "data": {
            "text/plain": [
              "   CustomerID  Recency  Frequency  Monetary\n",
              "0     12346.0      326         12  77556.46\n",
              "1     12608.0      405          1    415.79\n",
              "2     12745.0      487          2    723.85\n",
              "3     12746.0      541          1    254.55\n",
              "4     12747.0        2         26   9276.54"
            ],
            "text/html": [
              "\n",
              "  <div id=\"df-e46e4c4b-e0ac-46a0-9a3d-5e6e08659d44\" class=\"colab-df-container\">\n",
              "    <div>\n",
              "<style scoped>\n",
              "    .dataframe tbody tr th:only-of-type {\n",
              "        vertical-align: middle;\n",
              "    }\n",
              "\n",
              "    .dataframe tbody tr th {\n",
              "        vertical-align: top;\n",
              "    }\n",
              "\n",
              "    .dataframe thead th {\n",
              "        text-align: right;\n",
              "    }\n",
              "</style>\n",
              "<table border=\"1\" class=\"dataframe\">\n",
              "  <thead>\n",
              "    <tr style=\"text-align: right;\">\n",
              "      <th></th>\n",
              "      <th>CustomerID</th>\n",
              "      <th>Recency</th>\n",
              "      <th>Frequency</th>\n",
              "      <th>Monetary</th>\n",
              "    </tr>\n",
              "  </thead>\n",
              "  <tbody>\n",
              "    <tr>\n",
              "      <th>0</th>\n",
              "      <td>12346.0</td>\n",
              "      <td>326</td>\n",
              "      <td>12</td>\n",
              "      <td>77556.46</td>\n",
              "    </tr>\n",
              "    <tr>\n",
              "      <th>1</th>\n",
              "      <td>12608.0</td>\n",
              "      <td>405</td>\n",
              "      <td>1</td>\n",
              "      <td>415.79</td>\n",
              "    </tr>\n",
              "    <tr>\n",
              "      <th>2</th>\n",
              "      <td>12745.0</td>\n",
              "      <td>487</td>\n",
              "      <td>2</td>\n",
              "      <td>723.85</td>\n",
              "    </tr>\n",
              "    <tr>\n",
              "      <th>3</th>\n",
              "      <td>12746.0</td>\n",
              "      <td>541</td>\n",
              "      <td>1</td>\n",
              "      <td>254.55</td>\n",
              "    </tr>\n",
              "    <tr>\n",
              "      <th>4</th>\n",
              "      <td>12747.0</td>\n",
              "      <td>2</td>\n",
              "      <td>26</td>\n",
              "      <td>9276.54</td>\n",
              "    </tr>\n",
              "  </tbody>\n",
              "</table>\n",
              "</div>\n",
              "    <div class=\"colab-df-buttons\">\n",
              "\n",
              "  <div class=\"colab-df-container\">\n",
              "    <button class=\"colab-df-convert\" onclick=\"convertToInteractive('df-e46e4c4b-e0ac-46a0-9a3d-5e6e08659d44')\"\n",
              "            title=\"Convert this dataframe to an interactive table.\"\n",
              "            style=\"display:none;\">\n",
              "\n",
              "  <svg xmlns=\"http://www.w3.org/2000/svg\" height=\"24px\" viewBox=\"0 -960 960 960\">\n",
              "    <path d=\"M120-120v-720h720v720H120Zm60-500h600v-160H180v160Zm220 220h160v-160H400v160Zm0 220h160v-160H400v160ZM180-400h160v-160H180v160Zm440 0h160v-160H620v160ZM180-180h160v-160H180v160Zm440 0h160v-160H620v160Z\"/>\n",
              "  </svg>\n",
              "    </button>\n",
              "\n",
              "  <style>\n",
              "    .colab-df-container {\n",
              "      display:flex;\n",
              "      gap: 12px;\n",
              "    }\n",
              "\n",
              "    .colab-df-convert {\n",
              "      background-color: #E8F0FE;\n",
              "      border: none;\n",
              "      border-radius: 50%;\n",
              "      cursor: pointer;\n",
              "      display: none;\n",
              "      fill: #1967D2;\n",
              "      height: 32px;\n",
              "      padding: 0 0 0 0;\n",
              "      width: 32px;\n",
              "    }\n",
              "\n",
              "    .colab-df-convert:hover {\n",
              "      background-color: #E2EBFA;\n",
              "      box-shadow: 0px 1px 2px rgba(60, 64, 67, 0.3), 0px 1px 3px 1px rgba(60, 64, 67, 0.15);\n",
              "      fill: #174EA6;\n",
              "    }\n",
              "\n",
              "    .colab-df-buttons div {\n",
              "      margin-bottom: 4px;\n",
              "    }\n",
              "\n",
              "    [theme=dark] .colab-df-convert {\n",
              "      background-color: #3B4455;\n",
              "      fill: #D2E3FC;\n",
              "    }\n",
              "\n",
              "    [theme=dark] .colab-df-convert:hover {\n",
              "      background-color: #434B5C;\n",
              "      box-shadow: 0px 1px 3px 1px rgba(0, 0, 0, 0.15);\n",
              "      filter: drop-shadow(0px 1px 2px rgba(0, 0, 0, 0.3));\n",
              "      fill: #FFFFFF;\n",
              "    }\n",
              "  </style>\n",
              "\n",
              "    <script>\n",
              "      const buttonEl =\n",
              "        document.querySelector('#df-e46e4c4b-e0ac-46a0-9a3d-5e6e08659d44 button.colab-df-convert');\n",
              "      buttonEl.style.display =\n",
              "        google.colab.kernel.accessAllowed ? 'block' : 'none';\n",
              "\n",
              "      async function convertToInteractive(key) {\n",
              "        const element = document.querySelector('#df-e46e4c4b-e0ac-46a0-9a3d-5e6e08659d44');\n",
              "        const dataTable =\n",
              "          await google.colab.kernel.invokeFunction('convertToInteractive',\n",
              "                                                    [key], {});\n",
              "        if (!dataTable) return;\n",
              "\n",
              "        const docLinkHtml = 'Like what you see? Visit the ' +\n",
              "          '<a target=\"_blank\" href=https://colab.research.google.com/notebooks/data_table.ipynb>data table notebook</a>'\n",
              "          + ' to learn more about interactive tables.';\n",
              "        element.innerHTML = '';\n",
              "        dataTable['output_type'] = 'display_data';\n",
              "        await google.colab.output.renderOutput(dataTable, element);\n",
              "        const docLink = document.createElement('div');\n",
              "        docLink.innerHTML = docLinkHtml;\n",
              "        element.appendChild(docLink);\n",
              "      }\n",
              "    </script>\n",
              "  </div>\n",
              "\n",
              "\n",
              "    <div id=\"df-50993cd5-5e64-46a8-affa-defa38dd61ba\">\n",
              "      <button class=\"colab-df-quickchart\" onclick=\"quickchart('df-50993cd5-5e64-46a8-affa-defa38dd61ba')\"\n",
              "                title=\"Suggest charts\"\n",
              "                style=\"display:none;\">\n",
              "\n",
              "<svg xmlns=\"http://www.w3.org/2000/svg\" height=\"24px\"viewBox=\"0 0 24 24\"\n",
              "     width=\"24px\">\n",
              "    <g>\n",
              "        <path d=\"M19 3H5c-1.1 0-2 .9-2 2v14c0 1.1.9 2 2 2h14c1.1 0 2-.9 2-2V5c0-1.1-.9-2-2-2zM9 17H7v-7h2v7zm4 0h-2V7h2v10zm4 0h-2v-4h2v4z\"/>\n",
              "    </g>\n",
              "</svg>\n",
              "      </button>\n",
              "\n",
              "<style>\n",
              "  .colab-df-quickchart {\n",
              "      --bg-color: #E8F0FE;\n",
              "      --fill-color: #1967D2;\n",
              "      --hover-bg-color: #E2EBFA;\n",
              "      --hover-fill-color: #174EA6;\n",
              "      --disabled-fill-color: #AAA;\n",
              "      --disabled-bg-color: #DDD;\n",
              "  }\n",
              "\n",
              "  [theme=dark] .colab-df-quickchart {\n",
              "      --bg-color: #3B4455;\n",
              "      --fill-color: #D2E3FC;\n",
              "      --hover-bg-color: #434B5C;\n",
              "      --hover-fill-color: #FFFFFF;\n",
              "      --disabled-bg-color: #3B4455;\n",
              "      --disabled-fill-color: #666;\n",
              "  }\n",
              "\n",
              "  .colab-df-quickchart {\n",
              "    background-color: var(--bg-color);\n",
              "    border: none;\n",
              "    border-radius: 50%;\n",
              "    cursor: pointer;\n",
              "    display: none;\n",
              "    fill: var(--fill-color);\n",
              "    height: 32px;\n",
              "    padding: 0;\n",
              "    width: 32px;\n",
              "  }\n",
              "\n",
              "  .colab-df-quickchart:hover {\n",
              "    background-color: var(--hover-bg-color);\n",
              "    box-shadow: 0 1px 2px rgba(60, 64, 67, 0.3), 0 1px 3px 1px rgba(60, 64, 67, 0.15);\n",
              "    fill: var(--button-hover-fill-color);\n",
              "  }\n",
              "\n",
              "  .colab-df-quickchart-complete:disabled,\n",
              "  .colab-df-quickchart-complete:disabled:hover {\n",
              "    background-color: var(--disabled-bg-color);\n",
              "    fill: var(--disabled-fill-color);\n",
              "    box-shadow: none;\n",
              "  }\n",
              "\n",
              "  .colab-df-spinner {\n",
              "    border: 2px solid var(--fill-color);\n",
              "    border-color: transparent;\n",
              "    border-bottom-color: var(--fill-color);\n",
              "    animation:\n",
              "      spin 1s steps(1) infinite;\n",
              "  }\n",
              "\n",
              "  @keyframes spin {\n",
              "    0% {\n",
              "      border-color: transparent;\n",
              "      border-bottom-color: var(--fill-color);\n",
              "      border-left-color: var(--fill-color);\n",
              "    }\n",
              "    20% {\n",
              "      border-color: transparent;\n",
              "      border-left-color: var(--fill-color);\n",
              "      border-top-color: var(--fill-color);\n",
              "    }\n",
              "    30% {\n",
              "      border-color: transparent;\n",
              "      border-left-color: var(--fill-color);\n",
              "      border-top-color: var(--fill-color);\n",
              "      border-right-color: var(--fill-color);\n",
              "    }\n",
              "    40% {\n",
              "      border-color: transparent;\n",
              "      border-right-color: var(--fill-color);\n",
              "      border-top-color: var(--fill-color);\n",
              "    }\n",
              "    60% {\n",
              "      border-color: transparent;\n",
              "      border-right-color: var(--fill-color);\n",
              "    }\n",
              "    80% {\n",
              "      border-color: transparent;\n",
              "      border-right-color: var(--fill-color);\n",
              "      border-bottom-color: var(--fill-color);\n",
              "    }\n",
              "    90% {\n",
              "      border-color: transparent;\n",
              "      border-bottom-color: var(--fill-color);\n",
              "    }\n",
              "  }\n",
              "</style>\n",
              "\n",
              "      <script>\n",
              "        async function quickchart(key) {\n",
              "          const quickchartButtonEl =\n",
              "            document.querySelector('#' + key + ' button');\n",
              "          quickchartButtonEl.disabled = true;  // To prevent multiple clicks.\n",
              "          quickchartButtonEl.classList.add('colab-df-spinner');\n",
              "          try {\n",
              "            const charts = await google.colab.kernel.invokeFunction(\n",
              "                'suggestCharts', [key], {});\n",
              "          } catch (error) {\n",
              "            console.error('Error during call to suggestCharts:', error);\n",
              "          }\n",
              "          quickchartButtonEl.classList.remove('colab-df-spinner');\n",
              "          quickchartButtonEl.classList.add('colab-df-quickchart-complete');\n",
              "        }\n",
              "        (() => {\n",
              "          let quickchartButtonEl =\n",
              "            document.querySelector('#df-50993cd5-5e64-46a8-affa-defa38dd61ba button');\n",
              "          quickchartButtonEl.style.display =\n",
              "            google.colab.kernel.accessAllowed ? 'block' : 'none';\n",
              "        })();\n",
              "      </script>\n",
              "    </div>\n",
              "\n",
              "    </div>\n",
              "  </div>\n"
            ],
            "application/vnd.google.colaboratory.intrinsic+json": {
              "type": "dataframe",
              "summary": "{\n  \"name\": \"# This gives us a great base for predicting CLTV using regression and ML models\",\n  \"rows\": 5,\n  \"fields\": [\n    {\n      \"column\": \"CustomerID\",\n      \"properties\": {\n        \"dtype\": \"number\",\n        \"std\": 174.03821419446936,\n        \"min\": 12346.0,\n        \"max\": 12747.0,\n        \"num_unique_values\": 5,\n        \"samples\": [\n          12608.0,\n          12747.0,\n          12745.0\n        ],\n        \"semantic_type\": \"\",\n        \"description\": \"\"\n      }\n    },\n    {\n      \"column\": \"Recency\",\n      \"properties\": {\n        \"dtype\": \"number\",\n        \"std\": 212,\n        \"min\": 2,\n        \"max\": 541,\n        \"num_unique_values\": 5,\n        \"samples\": [\n          405,\n          2,\n          487\n        ],\n        \"semantic_type\": \"\",\n        \"description\": \"\"\n      }\n    },\n    {\n      \"column\": \"Frequency\",\n      \"properties\": {\n        \"dtype\": \"number\",\n        \"std\": 10,\n        \"min\": 1,\n        \"max\": 26,\n        \"num_unique_values\": 4,\n        \"samples\": [\n          1,\n          26,\n          12\n        ],\n        \"semantic_type\": \"\",\n        \"description\": \"\"\n      }\n    },\n    {\n      \"column\": \"Monetary\",\n      \"properties\": {\n        \"dtype\": \"number\",\n        \"std\": 33708.35544376602,\n        \"min\": 254.55,\n        \"max\": 77556.46,\n        \"num_unique_values\": 5,\n        \"samples\": [\n          415.79,\n          9276.539999999999,\n          723.85\n        ],\n        \"semantic_type\": \"\",\n        \"description\": \"\"\n      }\n    }\n  ]\n}"
            }
          },
          "metadata": {},
          "execution_count": 42
        }
      ]
    },
    {
      "cell_type": "markdown",
      "source": [
        "\n",
        "**Step 4: Predict CLTV Using Regression**\n",
        "\n",
        "\n",
        "* Define CLTV target variable\n",
        "* Build a regression model using Recency, Frequency, Monetary\n",
        "* Fit it using statsmodels\n",
        "* Interpret the results\n",
        "\n",
        "\n",
        "\n"
      ],
      "metadata": {
        "id": "pOru3B9-q1lu"
      }
    },
    {
      "cell_type": "code",
      "source": [
        "# Set up the data for regression\n",
        "# Define independent (X) and dependent (y) variables\n",
        "# We'll predict the \"Monetary\" value (total spending) using \"Recency\" and \"Frequency\"\n",
        "X = rfm[['Recency', 'Frequency']]\n",
        "y = rfm['Monetary']"
      ],
      "metadata": {
        "id": "ukY2bwyBqRMK"
      },
      "execution_count": 43,
      "outputs": []
    },
    {
      "cell_type": "code",
      "source": [
        "# Add a constant term to the model (required for intercept)\n",
        "X = sm.add_constant(X)"
      ],
      "metadata": {
        "id": "FAL3nt-wtkT7"
      },
      "execution_count": 44,
      "outputs": []
    },
    {
      "cell_type": "code",
      "source": [
        "# Fit the regression model\n",
        "model = sm.OLS(y, X).fit()"
      ],
      "metadata": {
        "id": "bPJAIS4itspK"
      },
      "execution_count": 45,
      "outputs": []
    },
    {
      "cell_type": "code",
      "source": [
        "# Print full model summary with statistical details\n",
        "print(model.summary())"
      ],
      "metadata": {
        "colab": {
          "base_uri": "https://localhost:8080/"
        },
        "id": "C15aDfKXtxM_",
        "outputId": "b0e2db35-e6e7-434f-ef7e-44305f28fc4b"
      },
      "execution_count": 46,
      "outputs": [
        {
          "output_type": "stream",
          "name": "stdout",
          "text": [
            "                            OLS Regression Results                            \n",
            "==============================================================================\n",
            "Dep. Variable:               Monetary   R-squared:                       0.343\n",
            "Model:                            OLS   Adj. R-squared:                  0.343\n",
            "Method:                 Least Squares   F-statistic:                     1397.\n",
            "Date:                Fri, 13 Jun 2025   Prob (F-statistic):               0.00\n",
            "Time:                        14:37:43   Log-Likelihood:                -56784.\n",
            "No. Observations:                5353   AIC:                         1.136e+05\n",
            "Df Residuals:                    5350   BIC:                         1.136e+05\n",
            "Df Model:                           2                                         \n",
            "Covariance Type:            nonrobust                                         \n",
            "==============================================================================\n",
            "                 coef    std err          t      P>|t|      [0.025      0.975]\n",
            "------------------------------------------------------------------------------\n",
            "const      -1296.3783    216.218     -5.996      0.000   -1720.254    -872.503\n",
            "Recency        1.5215      0.663      2.295      0.022       0.222       2.821\n",
            "Frequency    596.4413     11.608     51.384      0.000     573.686     619.197\n",
            "==============================================================================\n",
            "Omnibus:                    14425.813   Durbin-Watson:                   2.003\n",
            "Prob(Omnibus):                  0.000   Jarque-Bera (JB):        584623434.072\n",
            "Skew:                          32.415   Prob(JB):                         0.00\n",
            "Kurtosis:                    1620.695   Cond. No.                         472.\n",
            "==============================================================================\n",
            "\n",
            "Notes:\n",
            "[1] Standard Errors assume that the covariance matrix of the errors is correctly specified.\n"
          ]
        }
      ]
    },
    {
      "cell_type": "markdown",
      "source": [
        "**Analysis of the Results**\n",
        "\n",
        "**Model fit**\n",
        "* **R-squared:** Closer to 1 is better.\n",
        "\n",
        "R-squared: 0.343 – model explains 34.3% of the variance in total spending (Monetary) — this is decent for customer behavior data with only 2 features. Higher = better.\n",
        "* **F-statistic:** Tests the model’s global validity\n",
        "\n",
        "F-statistic: 1397 - Tests if the model is better than a horizontal line.\n",
        "* **Prob (F-statistic):** 0.000 - p-value for the F-test. Since it's near zero, the overall model is statistically significant. (p < 0.05)\n",
        "\n",
        "**Conclusion:** The model fits reasonably well for a basic one — it captures meaningful patterns, especially via frequency.\n",
        "\n",
        "**Coefficients Table**\n",
        "\n",
        "* **for \"const\"** coef: –1296.38 and p-value: 0.000 -\tWhen Recency = 0 and Frequency = 0, expected spend would be negative — this is a modeling limitation (we’ll fix later).\n",
        "* **for \"Recency\"**\tcoef: +1.52 and p-value: 0.022 - For each extra day since last purchase, expected spend increases by 1.52 units — this might be counterintuitive, so we should re-check this with transformed variables later.\n",
        "* **for \"Frequency\"** coef: +596.44and p-value: 0.000\tFor each extra order, customer spend increases by 596 units — this is the strongest and most meaningful signal in the model.\n",
        "\n",
        "**Statistical Significance**\n",
        "\n",
        "All p-values < 0.05 → All features are **statistically significant**.\n",
        "\n",
        "Coefficients are **not close to zero**, so they have **practical significance too**.\n",
        "\n",
        "**Residuals & Distribution Warnings**\n",
        "\n",
        "* **Skew:** 32.4 - Distribution of errors is highly skewed (not symmetric) — likely due to large outliers (some customers spend way more).\n",
        "\n",
        "Skew Value Range\tMeaning\n",
        "* ≈ 0: Perfectly symmetric\n",
        "* 0 to ±1: Mild skew (acceptable)\n",
        "* '> ±2: High skew (problematic)\n",
        "\n",
        "**Kurtosis:** 1620 - Very heavy tails — means extreme spenders exist.\n",
        "\n",
        "Kurtosis tells how heavy the tails of your distribution are.\n",
        "\n",
        "Normal distribution has kurtosis ≈ 3\n",
        "\n",
        "Kurtosis Value Range\tMeaning\n",
        "* ≈ 3: Normal kurtosis (ideal)\n",
        "* '> 3: Heavy tails (outliers exist)\n",
        "* '> 10: Very extreme (likely poor model fit)\n",
        "\n",
        "**Business Insight Summary**\n",
        "**Frequency** = most important\n",
        "\n",
        "**Recency** = possibly misleading now; we’ll explore further.\n",
        "\n",
        "The model has room for improvement, especially with more features or transformations."
      ],
      "metadata": {
        "id": "DAin_oGYFHpj"
      }
    },
    {
      "cell_type": "markdown",
      "source": [
        "Now, we’ll **log-transform the target (Monetary) to improve our regression model**. Then we’ll move on to **XGBoost for a stronger comparison**."
      ],
      "metadata": {
        "id": "uHjSxsdoP4Dy"
      }
    },
    {
      "cell_type": "markdown",
      "source": [
        "**Step 5: Log-Transform Monetary & Refit the Regression Model**\n",
        "\n",
        "Why?\n",
        "\n",
        "Previous model had extreme skew and kurtosis — this breaks OLS assumptions. (OLS: Ordinary Least Squares — it’s the method behind the regression we ran with statsmodels)\n",
        "\n",
        "A log transformation often makes the distribution:\n",
        "* Less skewed\n",
        "* More normal\n",
        "* More stable (less effect from extreme outliers)"
      ],
      "metadata": {
        "id": "DFaqQiPzQOd_"
      }
    },
    {
      "cell_type": "code",
      "source": [
        "# Add a new column for log-Monetary\n",
        "# We'll filter out values ≤ 0 first to avoid log errors\n",
        "rfm_log = rfm[rfm['Monetary'] > 0].copy()\n",
        "rfm_log['LogMonetary'] = np.log(rfm_log['Monetary']) # We basically take the log of the \"Monetary\" values"
      ],
      "metadata": {
        "id": "AF_WFs0iTzQj"
      },
      "execution_count": 47,
      "outputs": []
    },
    {
      "cell_type": "code",
      "source": [
        "# Prepare the regression variables\n",
        "X_log = rfm_log[['Recency', 'Frequency']]\n",
        "X_log = sm.add_constant(X_log)\n",
        "y_log = rfm_log['LogMonetary']"
      ],
      "metadata": {
        "id": "r0tU4qxpT6hJ"
      },
      "execution_count": 48,
      "outputs": []
    },
    {
      "cell_type": "code",
      "source": [
        "# Fit the log-regression model\n",
        "log_model = sm.OLS(y_log, X_log).fit()\n",
        "print(log_model.summary())"
      ],
      "metadata": {
        "colab": {
          "base_uri": "https://localhost:8080/"
        },
        "id": "pMKsYvI3ULQ8",
        "outputId": "25c910ab-48ca-47db-98aa-20a7974b4816"
      },
      "execution_count": 49,
      "outputs": [
        {
          "output_type": "stream",
          "name": "stdout",
          "text": [
            "                            OLS Regression Results                            \n",
            "==============================================================================\n",
            "Dep. Variable:            LogMonetary   R-squared:                       0.459\n",
            "Model:                            OLS   Adj. R-squared:                  0.458\n",
            "Method:                 Least Squares   F-statistic:                     2265.\n",
            "Date:                Fri, 13 Jun 2025   Prob (F-statistic):               0.00\n",
            "Time:                        14:38:47   Log-Likelihood:                -7674.9\n",
            "No. Observations:                5350   AIC:                         1.536e+04\n",
            "Df Residuals:                    5347   BIC:                         1.538e+04\n",
            "Df Model:                           2                                         \n",
            "Covariance Type:            nonrobust                                         \n",
            "==============================================================================\n",
            "                 coef    std err          t      P>|t|      [0.025      0.975]\n",
            "------------------------------------------------------------------------------\n",
            "const          6.9022      0.022    307.498      0.000       6.858       6.946\n",
            "Recency       -0.0023   6.89e-05    -33.210      0.000      -0.002      -0.002\n",
            "Frequency      0.0567      0.001     47.063      0.000       0.054       0.059\n",
            "==============================================================================\n",
            "Omnibus:                     1825.326   Durbin-Watson:                   1.977\n",
            "Prob(Omnibus):                  0.000   Jarque-Bera (JB):            31092.542\n",
            "Skew:                          -1.178   Prob(JB):                         0.00\n",
            "Kurtosis:                      14.573   Cond. No.                         472.\n",
            "==============================================================================\n",
            "\n",
            "Notes:\n",
            "[1] Standard Errors assume that the covariance matrix of the errors is correctly specified.\n"
          ]
        }
      ]
    },
    {
      "cell_type": "markdown",
      "source": [
        "** OLS Regression Results with \"LogMonetary\"**\n",
        "\n",
        "**Model Fit**\n",
        "* **R-squared:**\t0.459 - The model now explains 45.9% of the variation in customer spend (log scale) — much better than before (34%)\n",
        "* **F-statistic:**\t2265 - Strong evidence that the model is better than a constant-only model\n",
        "* **Prob (F-statistic):**\t0.000 - Model is statistically significant overall.\n",
        "\n",
        "**Conclusion:** Log-transforming the target improved the model — more accurate, less noisy.\n",
        "\n",
        "**Coefficients Table (Interpretation)**\n",
        "* **\"const\" coef:** 6.9022 - Base log spend level for customers with Recency = 0 and Frequency = 0.\n",
        "* **\"Recency\" coef:** -0.0023 - As Recency increases, predicted spend decreases — now it makes sense!\n",
        "* **\"Frequency\" coef:** 0.0567 - Each additional purchase increases predicted log spend — strong and logical relationship.\n",
        "\n",
        "**All p-values < 0.05 → All features are statistically significant.**\n",
        "\n",
        "Now, the Recency coefficient is negative, which matches business expectations:\n",
        "More recent = more valuable customer.\n",
        "\n",
        "**Residual Distribution (Skew & Kurtosis)**\n",
        "\n",
        "* **Skew:** –1.17 - Much better! Still slightly left-skewed, but far from the previous 32.\n",
        "* **Kurtosis:** 14.57 - Still heavy-tailed, but down from 1600+ — big improvement.\n",
        "\n",
        "**Log transformation really helped** with distributional issues."
      ],
      "metadata": {
        "id": "EygV-sKNVQTu"
      }
    },
    {
      "cell_type": "markdown",
      "source": [
        "**Step 6: Train the XGBoost Model to Predict CLTV**\n",
        "\n",
        "We’ll use \"Recency\" and \"Frequency\" to predict \"Monetary\" (raw, not log this time), and compare performance with linear regression.\n",
        "\n",
        "**Quick note:**\n",
        "\n",
        "**XGBoost** is a fast and powerful machine learning library that builds models using many small decision trees. It's great at handling outliers and showing which features are most important, which makes it popular in real-world projects and data science competitions."
      ],
      "metadata": {
        "id": "L_fw4Ak7dCeg"
      }
    },
    {
      "cell_type": "code",
      "source": [
        "#Install and import XGBoost\n",
        "!pip install xgboost\n",
        "\n",
        "import xgboost as xgb # XGBoost model\n",
        "import pandas as pd # Data manipulation\n",
        "import numpy as np # Numerical operations\n",
        "import matplotlib.pyplot as plt # Plotting\n",
        "\n",
        "from sklearn.model_selection import train_test_split # For train-test split\n",
        "from sklearn.metrics import mean_squared_error, r2_score # For model evaluation"
      ],
      "metadata": {
        "colab": {
          "base_uri": "https://localhost:8080/"
        },
        "id": "fAB0TghndSoU",
        "outputId": "29eca6bf-a341-485a-ad9b-15736cc765de"
      },
      "execution_count": 50,
      "outputs": [
        {
          "output_type": "stream",
          "name": "stdout",
          "text": [
            "Requirement already satisfied: xgboost in /usr/local/lib/python3.11/dist-packages (2.1.4)\n",
            "Requirement already satisfied: numpy in /usr/local/lib/python3.11/dist-packages (from xgboost) (2.0.2)\n",
            "Requirement already satisfied: nvidia-nccl-cu12 in /usr/local/lib/python3.11/dist-packages (from xgboost) (2.21.5)\n",
            "Requirement already satisfied: scipy in /usr/local/lib/python3.11/dist-packages (from xgboost) (1.15.3)\n"
          ]
        }
      ]
    },
    {
      "cell_type": "code",
      "source": [
        "# Prepare the data\n",
        "# Use the cleaned RFM data with only positive monetary values\n",
        "rfm_ml = rfm[rfm['Monetary'] > 0].copy() # Only keep customers who spent money (positive CLTV)\n",
        "\n",
        "X = rfm_ml[['Recency', 'Frequency']] # These are the predictors\n",
        "y = rfm_ml['Monetary'] # This is what we want to predict (total spend)\n",
        "\n",
        "# Train-test split\n",
        "X_train, X_test, y_train, y_test = train_test_split(X, y, test_size=0.2, random_state=42)"
      ],
      "metadata": {
        "id": "BDuD5EUJfFrf"
      },
      "execution_count": 52,
      "outputs": []
    },
    {
      "cell_type": "code",
      "source": [
        "# Train the XGBoost Regressor\n",
        "model_xgb = xgb.XGBRegressor(objective='reg:squarederror', random_state=42) # Create the XGBoost model (reg:squarederror = for regression)\n",
        "model_xgb.fit(X_train, y_train) # Train the model on the training set"
      ],
      "metadata": {
        "colab": {
          "base_uri": "https://localhost:8080/",
          "height": 253
        },
        "id": "EM0uM894fakD",
        "outputId": "9856fe5a-eb6f-4ec1-8d9e-66f739640f19"
      },
      "execution_count": 53,
      "outputs": [
        {
          "output_type": "execute_result",
          "data": {
            "text/plain": [
              "XGBRegressor(base_score=None, booster=None, callbacks=None,\n",
              "             colsample_bylevel=None, colsample_bynode=None,\n",
              "             colsample_bytree=None, device=None, early_stopping_rounds=None,\n",
              "             enable_categorical=False, eval_metric=None, feature_types=None,\n",
              "             gamma=None, grow_policy=None, importance_type=None,\n",
              "             interaction_constraints=None, learning_rate=None, max_bin=None,\n",
              "             max_cat_threshold=None, max_cat_to_onehot=None,\n",
              "             max_delta_step=None, max_depth=None, max_leaves=None,\n",
              "             min_child_weight=None, missing=nan, monotone_constraints=None,\n",
              "             multi_strategy=None, n_estimators=None, n_jobs=None,\n",
              "             num_parallel_tree=None, random_state=42, ...)"
            ],
            "text/html": [
              "<style>#sk-container-id-2 {\n",
              "  /* Definition of color scheme common for light and dark mode */\n",
              "  --sklearn-color-text: #000;\n",
              "  --sklearn-color-text-muted: #666;\n",
              "  --sklearn-color-line: gray;\n",
              "  /* Definition of color scheme for unfitted estimators */\n",
              "  --sklearn-color-unfitted-level-0: #fff5e6;\n",
              "  --sklearn-color-unfitted-level-1: #f6e4d2;\n",
              "  --sklearn-color-unfitted-level-2: #ffe0b3;\n",
              "  --sklearn-color-unfitted-level-3: chocolate;\n",
              "  /* Definition of color scheme for fitted estimators */\n",
              "  --sklearn-color-fitted-level-0: #f0f8ff;\n",
              "  --sklearn-color-fitted-level-1: #d4ebff;\n",
              "  --sklearn-color-fitted-level-2: #b3dbfd;\n",
              "  --sklearn-color-fitted-level-3: cornflowerblue;\n",
              "\n",
              "  /* Specific color for light theme */\n",
              "  --sklearn-color-text-on-default-background: var(--sg-text-color, var(--theme-code-foreground, var(--jp-content-font-color1, black)));\n",
              "  --sklearn-color-background: var(--sg-background-color, var(--theme-background, var(--jp-layout-color0, white)));\n",
              "  --sklearn-color-border-box: var(--sg-text-color, var(--theme-code-foreground, var(--jp-content-font-color1, black)));\n",
              "  --sklearn-color-icon: #696969;\n",
              "\n",
              "  @media (prefers-color-scheme: dark) {\n",
              "    /* Redefinition of color scheme for dark theme */\n",
              "    --sklearn-color-text-on-default-background: var(--sg-text-color, var(--theme-code-foreground, var(--jp-content-font-color1, white)));\n",
              "    --sklearn-color-background: var(--sg-background-color, var(--theme-background, var(--jp-layout-color0, #111)));\n",
              "    --sklearn-color-border-box: var(--sg-text-color, var(--theme-code-foreground, var(--jp-content-font-color1, white)));\n",
              "    --sklearn-color-icon: #878787;\n",
              "  }\n",
              "}\n",
              "\n",
              "#sk-container-id-2 {\n",
              "  color: var(--sklearn-color-text);\n",
              "}\n",
              "\n",
              "#sk-container-id-2 pre {\n",
              "  padding: 0;\n",
              "}\n",
              "\n",
              "#sk-container-id-2 input.sk-hidden--visually {\n",
              "  border: 0;\n",
              "  clip: rect(1px 1px 1px 1px);\n",
              "  clip: rect(1px, 1px, 1px, 1px);\n",
              "  height: 1px;\n",
              "  margin: -1px;\n",
              "  overflow: hidden;\n",
              "  padding: 0;\n",
              "  position: absolute;\n",
              "  width: 1px;\n",
              "}\n",
              "\n",
              "#sk-container-id-2 div.sk-dashed-wrapped {\n",
              "  border: 1px dashed var(--sklearn-color-line);\n",
              "  margin: 0 0.4em 0.5em 0.4em;\n",
              "  box-sizing: border-box;\n",
              "  padding-bottom: 0.4em;\n",
              "  background-color: var(--sklearn-color-background);\n",
              "}\n",
              "\n",
              "#sk-container-id-2 div.sk-container {\n",
              "  /* jupyter's `normalize.less` sets `[hidden] { display: none; }`\n",
              "     but bootstrap.min.css set `[hidden] { display: none !important; }`\n",
              "     so we also need the `!important` here to be able to override the\n",
              "     default hidden behavior on the sphinx rendered scikit-learn.org.\n",
              "     See: https://github.com/scikit-learn/scikit-learn/issues/21755 */\n",
              "  display: inline-block !important;\n",
              "  position: relative;\n",
              "}\n",
              "\n",
              "#sk-container-id-2 div.sk-text-repr-fallback {\n",
              "  display: none;\n",
              "}\n",
              "\n",
              "div.sk-parallel-item,\n",
              "div.sk-serial,\n",
              "div.sk-item {\n",
              "  /* draw centered vertical line to link estimators */\n",
              "  background-image: linear-gradient(var(--sklearn-color-text-on-default-background), var(--sklearn-color-text-on-default-background));\n",
              "  background-size: 2px 100%;\n",
              "  background-repeat: no-repeat;\n",
              "  background-position: center center;\n",
              "}\n",
              "\n",
              "/* Parallel-specific style estimator block */\n",
              "\n",
              "#sk-container-id-2 div.sk-parallel-item::after {\n",
              "  content: \"\";\n",
              "  width: 100%;\n",
              "  border-bottom: 2px solid var(--sklearn-color-text-on-default-background);\n",
              "  flex-grow: 1;\n",
              "}\n",
              "\n",
              "#sk-container-id-2 div.sk-parallel {\n",
              "  display: flex;\n",
              "  align-items: stretch;\n",
              "  justify-content: center;\n",
              "  background-color: var(--sklearn-color-background);\n",
              "  position: relative;\n",
              "}\n",
              "\n",
              "#sk-container-id-2 div.sk-parallel-item {\n",
              "  display: flex;\n",
              "  flex-direction: column;\n",
              "}\n",
              "\n",
              "#sk-container-id-2 div.sk-parallel-item:first-child::after {\n",
              "  align-self: flex-end;\n",
              "  width: 50%;\n",
              "}\n",
              "\n",
              "#sk-container-id-2 div.sk-parallel-item:last-child::after {\n",
              "  align-self: flex-start;\n",
              "  width: 50%;\n",
              "}\n",
              "\n",
              "#sk-container-id-2 div.sk-parallel-item:only-child::after {\n",
              "  width: 0;\n",
              "}\n",
              "\n",
              "/* Serial-specific style estimator block */\n",
              "\n",
              "#sk-container-id-2 div.sk-serial {\n",
              "  display: flex;\n",
              "  flex-direction: column;\n",
              "  align-items: center;\n",
              "  background-color: var(--sklearn-color-background);\n",
              "  padding-right: 1em;\n",
              "  padding-left: 1em;\n",
              "}\n",
              "\n",
              "\n",
              "/* Toggleable style: style used for estimator/Pipeline/ColumnTransformer box that is\n",
              "clickable and can be expanded/collapsed.\n",
              "- Pipeline and ColumnTransformer use this feature and define the default style\n",
              "- Estimators will overwrite some part of the style using the `sk-estimator` class\n",
              "*/\n",
              "\n",
              "/* Pipeline and ColumnTransformer style (default) */\n",
              "\n",
              "#sk-container-id-2 div.sk-toggleable {\n",
              "  /* Default theme specific background. It is overwritten whether we have a\n",
              "  specific estimator or a Pipeline/ColumnTransformer */\n",
              "  background-color: var(--sklearn-color-background);\n",
              "}\n",
              "\n",
              "/* Toggleable label */\n",
              "#sk-container-id-2 label.sk-toggleable__label {\n",
              "  cursor: pointer;\n",
              "  display: flex;\n",
              "  width: 100%;\n",
              "  margin-bottom: 0;\n",
              "  padding: 0.5em;\n",
              "  box-sizing: border-box;\n",
              "  text-align: center;\n",
              "  align-items: start;\n",
              "  justify-content: space-between;\n",
              "  gap: 0.5em;\n",
              "}\n",
              "\n",
              "#sk-container-id-2 label.sk-toggleable__label .caption {\n",
              "  font-size: 0.6rem;\n",
              "  font-weight: lighter;\n",
              "  color: var(--sklearn-color-text-muted);\n",
              "}\n",
              "\n",
              "#sk-container-id-2 label.sk-toggleable__label-arrow:before {\n",
              "  /* Arrow on the left of the label */\n",
              "  content: \"▸\";\n",
              "  float: left;\n",
              "  margin-right: 0.25em;\n",
              "  color: var(--sklearn-color-icon);\n",
              "}\n",
              "\n",
              "#sk-container-id-2 label.sk-toggleable__label-arrow:hover:before {\n",
              "  color: var(--sklearn-color-text);\n",
              "}\n",
              "\n",
              "/* Toggleable content - dropdown */\n",
              "\n",
              "#sk-container-id-2 div.sk-toggleable__content {\n",
              "  max-height: 0;\n",
              "  max-width: 0;\n",
              "  overflow: hidden;\n",
              "  text-align: left;\n",
              "  /* unfitted */\n",
              "  background-color: var(--sklearn-color-unfitted-level-0);\n",
              "}\n",
              "\n",
              "#sk-container-id-2 div.sk-toggleable__content.fitted {\n",
              "  /* fitted */\n",
              "  background-color: var(--sklearn-color-fitted-level-0);\n",
              "}\n",
              "\n",
              "#sk-container-id-2 div.sk-toggleable__content pre {\n",
              "  margin: 0.2em;\n",
              "  border-radius: 0.25em;\n",
              "  color: var(--sklearn-color-text);\n",
              "  /* unfitted */\n",
              "  background-color: var(--sklearn-color-unfitted-level-0);\n",
              "}\n",
              "\n",
              "#sk-container-id-2 div.sk-toggleable__content.fitted pre {\n",
              "  /* unfitted */\n",
              "  background-color: var(--sklearn-color-fitted-level-0);\n",
              "}\n",
              "\n",
              "#sk-container-id-2 input.sk-toggleable__control:checked~div.sk-toggleable__content {\n",
              "  /* Expand drop-down */\n",
              "  max-height: 200px;\n",
              "  max-width: 100%;\n",
              "  overflow: auto;\n",
              "}\n",
              "\n",
              "#sk-container-id-2 input.sk-toggleable__control:checked~label.sk-toggleable__label-arrow:before {\n",
              "  content: \"▾\";\n",
              "}\n",
              "\n",
              "/* Pipeline/ColumnTransformer-specific style */\n",
              "\n",
              "#sk-container-id-2 div.sk-label input.sk-toggleable__control:checked~label.sk-toggleable__label {\n",
              "  color: var(--sklearn-color-text);\n",
              "  background-color: var(--sklearn-color-unfitted-level-2);\n",
              "}\n",
              "\n",
              "#sk-container-id-2 div.sk-label.fitted input.sk-toggleable__control:checked~label.sk-toggleable__label {\n",
              "  background-color: var(--sklearn-color-fitted-level-2);\n",
              "}\n",
              "\n",
              "/* Estimator-specific style */\n",
              "\n",
              "/* Colorize estimator box */\n",
              "#sk-container-id-2 div.sk-estimator input.sk-toggleable__control:checked~label.sk-toggleable__label {\n",
              "  /* unfitted */\n",
              "  background-color: var(--sklearn-color-unfitted-level-2);\n",
              "}\n",
              "\n",
              "#sk-container-id-2 div.sk-estimator.fitted input.sk-toggleable__control:checked~label.sk-toggleable__label {\n",
              "  /* fitted */\n",
              "  background-color: var(--sklearn-color-fitted-level-2);\n",
              "}\n",
              "\n",
              "#sk-container-id-2 div.sk-label label.sk-toggleable__label,\n",
              "#sk-container-id-2 div.sk-label label {\n",
              "  /* The background is the default theme color */\n",
              "  color: var(--sklearn-color-text-on-default-background);\n",
              "}\n",
              "\n",
              "/* On hover, darken the color of the background */\n",
              "#sk-container-id-2 div.sk-label:hover label.sk-toggleable__label {\n",
              "  color: var(--sklearn-color-text);\n",
              "  background-color: var(--sklearn-color-unfitted-level-2);\n",
              "}\n",
              "\n",
              "/* Label box, darken color on hover, fitted */\n",
              "#sk-container-id-2 div.sk-label.fitted:hover label.sk-toggleable__label.fitted {\n",
              "  color: var(--sklearn-color-text);\n",
              "  background-color: var(--sklearn-color-fitted-level-2);\n",
              "}\n",
              "\n",
              "/* Estimator label */\n",
              "\n",
              "#sk-container-id-2 div.sk-label label {\n",
              "  font-family: monospace;\n",
              "  font-weight: bold;\n",
              "  display: inline-block;\n",
              "  line-height: 1.2em;\n",
              "}\n",
              "\n",
              "#sk-container-id-2 div.sk-label-container {\n",
              "  text-align: center;\n",
              "}\n",
              "\n",
              "/* Estimator-specific */\n",
              "#sk-container-id-2 div.sk-estimator {\n",
              "  font-family: monospace;\n",
              "  border: 1px dotted var(--sklearn-color-border-box);\n",
              "  border-radius: 0.25em;\n",
              "  box-sizing: border-box;\n",
              "  margin-bottom: 0.5em;\n",
              "  /* unfitted */\n",
              "  background-color: var(--sklearn-color-unfitted-level-0);\n",
              "}\n",
              "\n",
              "#sk-container-id-2 div.sk-estimator.fitted {\n",
              "  /* fitted */\n",
              "  background-color: var(--sklearn-color-fitted-level-0);\n",
              "}\n",
              "\n",
              "/* on hover */\n",
              "#sk-container-id-2 div.sk-estimator:hover {\n",
              "  /* unfitted */\n",
              "  background-color: var(--sklearn-color-unfitted-level-2);\n",
              "}\n",
              "\n",
              "#sk-container-id-2 div.sk-estimator.fitted:hover {\n",
              "  /* fitted */\n",
              "  background-color: var(--sklearn-color-fitted-level-2);\n",
              "}\n",
              "\n",
              "/* Specification for estimator info (e.g. \"i\" and \"?\") */\n",
              "\n",
              "/* Common style for \"i\" and \"?\" */\n",
              "\n",
              ".sk-estimator-doc-link,\n",
              "a:link.sk-estimator-doc-link,\n",
              "a:visited.sk-estimator-doc-link {\n",
              "  float: right;\n",
              "  font-size: smaller;\n",
              "  line-height: 1em;\n",
              "  font-family: monospace;\n",
              "  background-color: var(--sklearn-color-background);\n",
              "  border-radius: 1em;\n",
              "  height: 1em;\n",
              "  width: 1em;\n",
              "  text-decoration: none !important;\n",
              "  margin-left: 0.5em;\n",
              "  text-align: center;\n",
              "  /* unfitted */\n",
              "  border: var(--sklearn-color-unfitted-level-1) 1pt solid;\n",
              "  color: var(--sklearn-color-unfitted-level-1);\n",
              "}\n",
              "\n",
              ".sk-estimator-doc-link.fitted,\n",
              "a:link.sk-estimator-doc-link.fitted,\n",
              "a:visited.sk-estimator-doc-link.fitted {\n",
              "  /* fitted */\n",
              "  border: var(--sklearn-color-fitted-level-1) 1pt solid;\n",
              "  color: var(--sklearn-color-fitted-level-1);\n",
              "}\n",
              "\n",
              "/* On hover */\n",
              "div.sk-estimator:hover .sk-estimator-doc-link:hover,\n",
              ".sk-estimator-doc-link:hover,\n",
              "div.sk-label-container:hover .sk-estimator-doc-link:hover,\n",
              ".sk-estimator-doc-link:hover {\n",
              "  /* unfitted */\n",
              "  background-color: var(--sklearn-color-unfitted-level-3);\n",
              "  color: var(--sklearn-color-background);\n",
              "  text-decoration: none;\n",
              "}\n",
              "\n",
              "div.sk-estimator.fitted:hover .sk-estimator-doc-link.fitted:hover,\n",
              ".sk-estimator-doc-link.fitted:hover,\n",
              "div.sk-label-container:hover .sk-estimator-doc-link.fitted:hover,\n",
              ".sk-estimator-doc-link.fitted:hover {\n",
              "  /* fitted */\n",
              "  background-color: var(--sklearn-color-fitted-level-3);\n",
              "  color: var(--sklearn-color-background);\n",
              "  text-decoration: none;\n",
              "}\n",
              "\n",
              "/* Span, style for the box shown on hovering the info icon */\n",
              ".sk-estimator-doc-link span {\n",
              "  display: none;\n",
              "  z-index: 9999;\n",
              "  position: relative;\n",
              "  font-weight: normal;\n",
              "  right: .2ex;\n",
              "  padding: .5ex;\n",
              "  margin: .5ex;\n",
              "  width: min-content;\n",
              "  min-width: 20ex;\n",
              "  max-width: 50ex;\n",
              "  color: var(--sklearn-color-text);\n",
              "  box-shadow: 2pt 2pt 4pt #999;\n",
              "  /* unfitted */\n",
              "  background: var(--sklearn-color-unfitted-level-0);\n",
              "  border: .5pt solid var(--sklearn-color-unfitted-level-3);\n",
              "}\n",
              "\n",
              ".sk-estimator-doc-link.fitted span {\n",
              "  /* fitted */\n",
              "  background: var(--sklearn-color-fitted-level-0);\n",
              "  border: var(--sklearn-color-fitted-level-3);\n",
              "}\n",
              "\n",
              ".sk-estimator-doc-link:hover span {\n",
              "  display: block;\n",
              "}\n",
              "\n",
              "/* \"?\"-specific style due to the `<a>` HTML tag */\n",
              "\n",
              "#sk-container-id-2 a.estimator_doc_link {\n",
              "  float: right;\n",
              "  font-size: 1rem;\n",
              "  line-height: 1em;\n",
              "  font-family: monospace;\n",
              "  background-color: var(--sklearn-color-background);\n",
              "  border-radius: 1rem;\n",
              "  height: 1rem;\n",
              "  width: 1rem;\n",
              "  text-decoration: none;\n",
              "  /* unfitted */\n",
              "  color: var(--sklearn-color-unfitted-level-1);\n",
              "  border: var(--sklearn-color-unfitted-level-1) 1pt solid;\n",
              "}\n",
              "\n",
              "#sk-container-id-2 a.estimator_doc_link.fitted {\n",
              "  /* fitted */\n",
              "  border: var(--sklearn-color-fitted-level-1) 1pt solid;\n",
              "  color: var(--sklearn-color-fitted-level-1);\n",
              "}\n",
              "\n",
              "/* On hover */\n",
              "#sk-container-id-2 a.estimator_doc_link:hover {\n",
              "  /* unfitted */\n",
              "  background-color: var(--sklearn-color-unfitted-level-3);\n",
              "  color: var(--sklearn-color-background);\n",
              "  text-decoration: none;\n",
              "}\n",
              "\n",
              "#sk-container-id-2 a.estimator_doc_link.fitted:hover {\n",
              "  /* fitted */\n",
              "  background-color: var(--sklearn-color-fitted-level-3);\n",
              "}\n",
              "</style><div id=\"sk-container-id-2\" class=\"sk-top-container\"><div class=\"sk-text-repr-fallback\"><pre>XGBRegressor(base_score=None, booster=None, callbacks=None,\n",
              "             colsample_bylevel=None, colsample_bynode=None,\n",
              "             colsample_bytree=None, device=None, early_stopping_rounds=None,\n",
              "             enable_categorical=False, eval_metric=None, feature_types=None,\n",
              "             gamma=None, grow_policy=None, importance_type=None,\n",
              "             interaction_constraints=None, learning_rate=None, max_bin=None,\n",
              "             max_cat_threshold=None, max_cat_to_onehot=None,\n",
              "             max_delta_step=None, max_depth=None, max_leaves=None,\n",
              "             min_child_weight=None, missing=nan, monotone_constraints=None,\n",
              "             multi_strategy=None, n_estimators=None, n_jobs=None,\n",
              "             num_parallel_tree=None, random_state=42, ...)</pre><b>In a Jupyter environment, please rerun this cell to show the HTML representation or trust the notebook. <br />On GitHub, the HTML representation is unable to render, please try loading this page with nbviewer.org.</b></div><div class=\"sk-container\" hidden><div class=\"sk-item\"><div class=\"sk-estimator fitted sk-toggleable\"><input class=\"sk-toggleable__control sk-hidden--visually\" id=\"sk-estimator-id-2\" type=\"checkbox\" checked><label for=\"sk-estimator-id-2\" class=\"sk-toggleable__label fitted sk-toggleable__label-arrow\"><div><div>XGBRegressor</div></div><div><span class=\"sk-estimator-doc-link fitted\">i<span>Fitted</span></span></div></label><div class=\"sk-toggleable__content fitted\"><pre>XGBRegressor(base_score=None, booster=None, callbacks=None,\n",
              "             colsample_bylevel=None, colsample_bynode=None,\n",
              "             colsample_bytree=None, device=None, early_stopping_rounds=None,\n",
              "             enable_categorical=False, eval_metric=None, feature_types=None,\n",
              "             gamma=None, grow_policy=None, importance_type=None,\n",
              "             interaction_constraints=None, learning_rate=None, max_bin=None,\n",
              "             max_cat_threshold=None, max_cat_to_onehot=None,\n",
              "             max_delta_step=None, max_depth=None, max_leaves=None,\n",
              "             min_child_weight=None, missing=nan, monotone_constraints=None,\n",
              "             multi_strategy=None, n_estimators=None, n_jobs=None,\n",
              "             num_parallel_tree=None, random_state=42, ...)</pre></div> </div></div></div></div>"
            ]
          },
          "metadata": {},
          "execution_count": 53
        }
      ]
    },
    {
      "cell_type": "code",
      "source": [
        "# Make predictions and evaluate\n",
        "# Predict\n",
        "y_pred = model_xgb.predict(X_test) # Predict total spend (Monetary) on the test set\n",
        "\n",
        "# Metrics\n",
        "rmse = np.sqrt(mean_squared_error(y_test, y_pred))  # manual RMSE - Calculate RMSE = Root Mean Squared Error (lower is better)\n",
        "r2 = r2_score(y_test, y_pred) # Calculate R² = how much variance the model explains (higher is better)\n",
        "\n",
        "print(f\"RMSE: {rmse:.2f}\") # Average prediction error\n",
        "print(f\"R² Score: {r2:.3f}\") # Proportion of variance explained"
      ],
      "metadata": {
        "colab": {
          "base_uri": "https://localhost:8080/"
        },
        "id": "VbtAkqEffz0B",
        "outputId": "c3c77398-4567-4a00-b549-1d8380185913"
      },
      "execution_count": 54,
      "outputs": [
        {
          "output_type": "stream",
          "name": "stdout",
          "text": [
            "RMSE: 5561.93\n",
            "R² Score: 0.341\n"
          ]
        }
      ]
    },
    {
      "cell_type": "code",
      "source": [
        "# Plot feature importance\n",
        "# Show which features (Recency or Frequency) were more important\n",
        "xgb.plot_importance(model_xgb)\n",
        "plt.title(\"Feature Importance (XGBoost)\")\n",
        "plt.show()"
      ],
      "metadata": {
        "colab": {
          "base_uri": "https://localhost:8080/",
          "height": 472
        },
        "id": "QC2YUfnigyk9",
        "outputId": "d31634b9-16fb-4d2c-a564-8ad08229fcbe"
      },
      "execution_count": 55,
      "outputs": [
        {
          "output_type": "display_data",
          "data": {
            "text/plain": [
              "<Figure size 640x480 with 1 Axes>"
            ],
            "image/png": "[encoded data removed]"
          },
          "metadata": {}
        }
      ]
    },
    {
      "cell_type": "markdown",
      "source": [
        "**XGBoost Results Summary**\n",
        "* **RMSE:** 5561.93 - The model's predictions are, on average, ~₤5562 off from actual values.\n",
        "* **R² Score:** 0.341 - XGBoost explains 34.1% of the variance in Monetary — slightly worse than our log-regression model (R² = 0.459)\n",
        "\n",
        "**Feature Importance, from the plot**\n",
        "* Recency and Frequency are equally important for XGBoost.\n",
        "* Very balanced - This suggests that both how recent and how often a customer buys are equally predictive of spend.\n",
        "\n",
        "**Quick Notes:**\n",
        "\n",
        "* **RMSE (Root Mean Squared Error)** tells us, on average, how far our model's predictions are from the actual values. Lower is better — it means the model is making more accurate predictions.\n",
        "* **R² Score (Coefficient of Determination)** shows how well the model explains the variation in the target variable (Monetary). A score closer to 1 means the model fits the data better. For example, R² = 0.45 means the model explains 45% of the variation in customer spend.\n",
        "* **X-axis (F score), from the plot:** How often each feature was used to split the data across all decision trees in the model\n",
        "→ Higher = more important"
      ],
      "metadata": {
        "id": "uS2oK4SR8qea"
      }
    },
    {
      "cell_type": "markdown",
      "source": [
        "**Step 7: Choosing the Best Model for CLTV Prediction**"
      ],
      "metadata": {
        "id": "Km7ju8RB_p99"
      }
    },
    {
      "cell_type": "markdown",
      "source": [
        "**Model Comparison**\n",
        "* OLS Regression (raw) - R² Score: 0.343\t—\tSkewed, violated assumptions.\n",
        "* OLS Regression (log) - R² Score: 0.459\t—\t **Best-performing so far**.\n",
        "* XGBoost - R² Score: 0.341\tRMSE: 5561.93 - Slightly less accurate, but more robust.\n",
        "\n",
        "Our log-transformed linear regression model is the best performer, but XGBoost still adds value by handling nonlinearities and showing that both Recency and Frequency matter equally.\n",
        "\n",
        "**We will continue to use the log-linear model.**\n",
        "Our log-transformed regression model was the most accurate (R² = 0.459) and had the best statistical behavior. But since it predicts the log of Monetary, we need to convert the output back to the normal scale using np.exp()."
      ],
      "metadata": {
        "id": "P57OBn7S9szC"
      }
    },
    {
      "cell_type": "markdown",
      "source": [
        "**Step 8: Predicting CLTV with Our Log-Linear Model**"
      ],
      "metadata": {
        "id": "uV9jpFwoFNBM"
      }
    },
    {
      "cell_type": "code",
      "source": [
        "# Define the function\n",
        "import numpy as np\n",
        "import pandas as pd\n",
        "\n",
        "def predict_cltv(recency, frequency, model=log_model):\n",
        "    \"\"\"\n",
        "    Predict Customer Lifetime Value using a log-linear regression model.\n",
        "\n",
        "    Parameters:\n",
        "    -----------\n",
        "    recency : int or float\n",
        "        Days since the customer's last purchase\n",
        "    frequency : int or float\n",
        "        Total number of purchases made by the customer\n",
        "    model : statsmodels OLS object\n",
        "        A trained log-linear regression model (e.g., log_model)\n",
        "\n",
        "    Returns:\n",
        "    --------\n",
        "    cltv : float\n",
        "        Predicted Customer Lifetime Value in original currency (not log scale)\n",
        "    \"\"\"\n",
        "    # Step 1: Create input data in the same column order as training\n",
        "    new_data = pd.DataFrame({'const': [1], 'Recency': [recency], 'Frequency': [frequency]})\n",
        "\n",
        "    # Step 2: Predict log(CLTV)\n",
        "    log_cltv = model.predict(new_data)\n",
        "\n",
        "    # Step 3: Convert back from log scale to currency\n",
        "    cltv = np.exp(log_cltv)[0]\n",
        "\n",
        "    return cltv"
      ],
      "metadata": {
        "id": "d_LWbQVHJrUH"
      },
      "execution_count": 56,
      "outputs": []
    },
    {
      "cell_type": "code",
      "source": [
        "# Predict for a customer with 4 purchases and last purchase 12 days ago\n",
        "predicted = predict_cltv(recency=12, frequency=4)\n",
        "print(f\"Predicted CLTV: £{predicted:.2f}\")"
      ],
      "metadata": {
        "colab": {
          "base_uri": "https://localhost:8080/"
        },
        "id": "1wo6owtsJzD9",
        "outputId": "9c866e35-be8f-4649-c61a-ff8f4b4bc52a"
      },
      "execution_count": 57,
      "outputs": [
        {
          "output_type": "stream",
          "name": "stdout",
          "text": [
            "Predicted CLTV: £1213.85\n"
          ]
        }
      ]
    },
    {
      "cell_type": "markdown",
      "source": [
        "**Final Summary**\n",
        "\n",
        "In this project, we built a machine learning model to **predict Customer Lifetime Value (CLTV)** using just two simple behavioral metrics: Recency (days since last purchase) and Frequency (number of purchases). By training a log-linear regression model, we were able to estimate how much revenue a customer is likely to generate in the future.\n",
        "\n",
        "* **You don’t need to wait months to calculate CLTV.\n",
        "Our model allows you to estimate it immediately based on available behavioral data** — so you can take action right away.\n",
        "\n",
        "This enables businesses to:\n",
        "\n",
        "* Prioritize high-value customers early\n",
        "* Personalize marketing and retention strategies\n",
        "* Allocate budget more effectively\n",
        "\n",
        "We also created a reusable prediction function that allows you to:\n",
        "\n",
        "* Predict CLTV for a single customer\n",
        "* Or run batch predictions for all customers at once\n",
        "\n",
        "We compared different models (including XGBoost), evaluated results using R² and RMSE, and confirmed that the log-transformed linear regression was the best performer — offering strong accuracy and easy interpretation.\n",
        "\n",
        "This approach turns basic customer data into powerful predictions, helping teams make data-driven decisions without delays."
      ],
      "metadata": {
        "id": "aYxKokuAMjd0"
      }
    }
  ]
}